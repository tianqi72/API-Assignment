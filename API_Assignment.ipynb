{
 "cells": [
  {
   "cell_type": "markdown",
   "metadata": {},
   "source": [
    "# API Assignment"
   ]
  },
  {
   "cell_type": "markdown",
   "metadata": {},
   "source": [
    "After learning API, I find a better way to collect data I need for my project, which is to study whether an event has an impact on company's stock price. I used to mannually download company's stock price from database, now I try to use API to get company's daily stock price from yahoo finance database. On September 10, 2019, Apple announced the release of new iPhone 11 and ipad. I'm wondering whether this launch has an positive impact on Apple's stock value. So I need to use API to get Apple's daily stock price, calculate daily return, use regression to get expected return, and get daily abnormal return by calculating the difference between expected return and actual return. Abnormal return  is the fraction of a stock's return not explained by the rate of return of the market, which is often triggered by events."
   ]
  },
  {
   "cell_type": "code",
   "execution_count": null,
   "metadata": {},
   "outputs": [],
   "source": [
    "!pip install pandas-datareader"
   ]
  },
  {
   "cell_type": "code",
   "execution_count": 24,
   "metadata": {},
   "outputs": [],
   "source": [
    "import pandas as pd\n",
    "import numpy as np\n",
    "import datetime\n",
    "import pandas_datareader as pdr\n",
    "from sklearn.linear_model import LinearRegression\n",
    "import matplotlib.pyplot as plt"
   ]
  },
  {
   "cell_type": "code",
   "execution_count": 26,
   "metadata": {},
   "outputs": [],
   "source": [
    "regressor=LinearRegression()\n",
    "# Get Apple's daily stock price from 2018-7-1 to 2019-9-30\n",
    "stock_AAPL = pdr.get_data_yahoo('AAPL', \n",
    "                          start=datetime.datetime(2018, 7, 1), \n",
    "                          end=datetime.datetime(2019, 9, 30))\n",
    "\n",
    "# Get Apple's daily return\n",
    "daily_returns = stock_AAPL['Adj Close'].pct_change()\n",
    "daily_returns.columns=['Actual Return']\n",
    "\n",
    "# Get S&P 500 daily return (measures stock performance of 500 large companies as representations of U.S. stock market)\n",
    "gspc=pdr.get_data_yahoo('^gspc',start=datetime.datetime(2018,7,1),end=datetime.datetime(2019,9,30))\n",
    "market=gspc['Adj Close'].pct_change()\n",
    "\n",
    "# Use regression to get Apple's expected daily return\n",
    "regressor.fit(np.array(market['2018-07-05':'2019-09-02']).reshape(-1,1), \n",
    "              list(daily_returns['2018-07-05':'2019-09-02']))\n",
    "\n",
    "# Calculate Abnormal Return (difference between actual return and expected return)\n",
    "Abnormal_return=daily_returns['2018-07-05':'2019-09-24']-regressor.predict(\n",
    "    np.array(market['2018-07-05':'2019-09-24']).reshape(-1,1))"
   ]
  },
  {
   "cell_type": "code",
   "execution_count": 28,
   "metadata": {},
   "outputs": [
    {
     "data": {
      "text/plain": [
       "Date\n",
       "2019-08-26    0.002254\n",
       "2019-08-27   -0.006690\n",
       "2019-08-28   -0.003359\n",
       "2019-08-29   -0.002377\n",
       "2019-08-30   -0.002483\n",
       "2019-09-03   -0.004410\n",
       "2019-09-04    0.000434\n",
       "2019-09-05   -0.000242\n",
       "2019-09-06   -0.001688\n",
       "2019-09-09    0.004184\n",
       "2019-09-10    0.011104\n",
       "2019-09-11    0.020696\n",
       "2019-09-12   -0.006791\n",
       "2019-09-13   -0.018588\n",
       "2019-09-16    0.009750\n",
       "2019-09-17   -0.000470\n",
       "2019-09-18    0.008640\n",
       "2019-09-19   -0.008379\n",
       "2019-09-20   -0.007478\n",
       "2019-09-23    0.004469\n",
       "2019-09-24    0.007681\n",
       "Name: Adj Close, dtype: float64"
      ]
     },
     "execution_count": 28,
     "metadata": {},
     "output_type": "execute_result"
    }
   ],
   "source": [
    "# Abnormal return 10 days before and after the event (2019-09-10)\n",
    "Abnormal_return['2019-08-26':'2019-09-24']"
   ]
  },
  {
   "cell_type": "code",
   "execution_count": 29,
   "metadata": {
    "scrolled": false
   },
   "outputs": [
    {
     "data": {
      "text/plain": [
       "<matplotlib.axes._subplots.AxesSubplot at 0xd595988>"
      ]
     },
     "execution_count": 29,
     "metadata": {},
     "output_type": "execute_result"
    },
    {
     "data": {
      "image/png": "[encoded data removed]",
      "text/plain": [
       "<Figure size 432x288 with 1 Axes>"
      ]
     },
     "metadata": {
      "needs_background": "light"
     },
     "output_type": "display_data"
    }
   ],
   "source": [
    "Abnormal_return['2019-08-26':'2019-09-24'].plot(x=Abnormal_return.index,kind='bar')"
   ]
  },
  {
   "cell_type": "markdown",
   "metadata": {},
   "source": [
    "From the plot we can see that on September 10, 2019, the abnormal return is a significant positive number, which means the actual return is much higher than the expected normal return because of the event. Therefore the new product launch did have a positive impact on Apple's stock price. The stock price continued increasing on the second day but experienced a reverse on the following two days."
   ]
  },
  {
   "cell_type": "code",
   "execution_count": null,
   "metadata": {},
   "outputs": [],
   "source": []
  }
 ],
 "metadata": {
  "kernelspec": {
   "display_name": "Python 3",
   "language": "python",
   "name": "python3"
  },
  "language_info": {
   "codemirror_mode": {
    "name": "ipython",
    "version": 3
   },
   "file_extension": ".py",
   "mimetype": "text/x-python",
   "name": "python",
   "nbconvert_exporter": "python",
   "pygments_lexer": "ipython3",
   "version": "3.7.6"
  }
 },
 "nbformat": 4,
 "nbformat_minor": 4
}
